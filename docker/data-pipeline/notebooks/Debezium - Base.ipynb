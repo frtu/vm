{
 "cells": [
  {
   "cell_type": "markdown",
   "id": "ede3d13b-18d5-4c62-9aa2-94523f4e6ab2",
   "metadata": {},
   "source": [
    "# Prepare environment"
   ]
  },
  {
   "cell_type": "code",
   "execution_count": null,
   "id": "663bf85f-0a86-4a50-8da5-964219efbdd4",
   "metadata": {},
   "outputs": [],
   "source": [
    "%load_ext autoreload\n",
    "%autoreload 2"
   ]
  },
  {
   "cell_type": "markdown",
   "id": "bceef8b5-c0c4-4c9c-ab50-b48922b13b9e",
   "metadata": {},
   "source": [
    "## Init base libs\n",
    "\n",
    "* Install libs"
   ]
  },
  {
   "cell_type": "code",
   "execution_count": null,
   "id": "1c03cfae-e3f7-4450-9677-ecfa5074c60f",
   "metadata": {},
   "outputs": [],
   "source": [
    "%%capture\n",
    "%pip install \\\n",
    "    python-dotenv"
   ]
  },
  {
   "cell_type": "code",
   "execution_count": null,
   "id": "c29d3dcb-6694-4e8e-8d06-5079bb64c1e6",
   "metadata": {},
   "outputs": [],
   "source": [
    "import os\n",
    "from dotenv import load_dotenv\n",
    "\n",
    "load_dotenv()\n",
    "print(os.getenv('DB_DRIVER', 'postgresql'))"
   ]
  },
  {
   "cell_type": "markdown",
   "id": "40166136-ff0e-49b2-a1d6-cdc3c4592199",
   "metadata": {},
   "source": [
    "## Debezium"
   ]
  },
  {
   "cell_type": "code",
   "execution_count": null,
   "id": "3a016a10-b423-44f2-acbf-dab7417c57e9",
   "metadata": {},
   "outputs": [],
   "source": [
    "%%capture\n",
    "%pip install \\\n",
    "   requests"
   ]
  },
  {
   "cell_type": "code",
   "execution_count": null,
   "id": "579c577e-c63e-4461-900c-99be941fd877",
   "metadata": {},
   "outputs": [],
   "source": [
    "import requests\n",
    "import json\n",
    "\n",
    "url = 'http://host.docker.internal:8083/connectors'\n",
    "response = requests.get(url)\n",
    "\n",
    "if response.status_code == 200 or response.status_code == 201: # 200 OK or 201 Created\n",
    "    print(\"Request successful!\")\n",
    "    print(\"Response JSON:\")\n",
    "    print(json.dumps(response.json(), indent=4))\n",
    "else:\n",
    "    print(f\"Request failed with status code: {response.status_code}\")\n",
    "    print(\"Response text:\")\n",
    "    print(response.text)"
   ]
  },
  {
   "cell_type": "code",
   "execution_count": null,
   "id": "90d179dc-c940-43fd-b94d-563cb149eaa0",
   "metadata": {},
   "outputs": [],
   "source": [
    "host=os.getenv('DB_HOST', 'database')\n",
    "port=os.getenv('DB_PORT', '5432')\n",
    "database=os.getenv('DB_DATABASE', 'ecommerce')\n",
    "schema=\"inventory\"\n",
    "user=os.getenv('APP_DB_USER', 'admin')\n",
    "password=os.getenv('APP_DB_PASSWORD', 'admin')\n",
    "\n",
    "payload = {\n",
    "    \"name\": f\"{schema}-connector\",\n",
    "    \"config\": {\n",
    "        \"connector.class\": \"io.debezium.connector.postgresql.PostgresConnector\",\n",
    "        \"tasks.max\": \"1\",\n",
    "        \"database.hostname\": host,\n",
    "        \"database.port\": port,\n",
    "        \"database.user\": user,\n",
    "        \"database.password\": password,\n",
    "        \"database.dbname\" : database,\n",
    "        \"topic.prefix\": \"dbserver1\",\n",
    "        \"schema.include.list\": schema\n",
    "    }\n",
    "}\n",
    "print(payload)\n",
    "\n",
    "headers = {\n",
    "    'Content-Type': 'application/json'\n",
    "}\n",
    "response = requests.post(url, json=payload, headers=headers)\n",
    "if response.status_code == 200 or response.status_code == 201: # 200 OK or 201 Created\n",
    "    print(\"Request successful!\")\n",
    "    print(\"Response JSON:\")\n",
    "    print(json.dumps(response.json(), indent=4))\n",
    "else:\n",
    "    print(f\"Request failed with status code: {response.status_code}\")\n",
    "    print(\"Response text:\")\n",
    "    print(response.text)"
   ]
  },
  {
   "cell_type": "code",
   "execution_count": null,
   "id": "bd49ee55-de53-4b90-a14f-8c5f43875959",
   "metadata": {},
   "outputs": [],
   "source": [
    "response = requests.get(f\"{url}/{schema}-connector/status\")\n",
    "\n",
    "if response.status_code == 200 or response.status_code == 201: # 200 OK or 201 Created\n",
    "    print(\"Request successful!\")\n",
    "    print(\"Response JSON:\")\n",
    "    print(json.dumps(response.json(), indent=4))\n",
    "else:\n",
    "    print(f\"Request failed with status code: {response.status_code}\")\n",
    "    print(\"Response text:\")\n",
    "    print(response.text)"
   ]
  },
  {
   "cell_type": "code",
   "execution_count": null,
   "id": "a3192439-a4dd-4b8c-9606-6b637f6a3900",
   "metadata": {},
   "outputs": [],
   "source": []
  }
 ],
 "metadata": {
  "kernelspec": {
   "display_name": "Python 3 (ipykernel)",
   "language": "python",
   "name": "python3"
  },
  "language_info": {
   "codemirror_mode": {
    "name": "ipython",
    "version": 3
   },
   "file_extension": ".py",
   "mimetype": "text/x-python",
   "name": "python",
   "nbconvert_exporter": "python",
   "pygments_lexer": "ipython3",
   "version": "3.11.6"
  }
 },
 "nbformat": 4,
 "nbformat_minor": 5
}
